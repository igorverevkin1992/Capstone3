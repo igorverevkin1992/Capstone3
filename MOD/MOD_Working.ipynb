{
 "cells": [
  {
   "cell_type": "markdown",
   "metadata": {},
   "source": [
    "# CAPSTONE 3. Predicting Major Cryptocurrencies Prices\n",
    "## Modeling"
   ]
  },
  {
   "cell_type": "markdown",
   "metadata": {},
   "source": [
    "In this notebook we will continue to implement different times series forecasting algorithms. In particular, we will build two models:\n",
    "<ul>\n",
    "    <i>pmdarima<i> - an automated version of ARIMA model that we used in the previous notebook\n",
    "    <i>Prophet<i> - a time-series forecasting model developped by Facebook"
   ]
  }
 ],
 "metadata": {
  "kernelspec": {
   "display_name": "Python 3",
   "language": "python",
   "name": "python3"
  },
  "language_info": {
   "codemirror_mode": {
    "name": "ipython",
    "version": 3
   },
   "file_extension": ".py",
   "mimetype": "text/x-python",
   "name": "python",
   "nbconvert_exporter": "python",
   "pygments_lexer": "ipython3",
   "version": "3.8.8"
  }
 },
 "nbformat": 4,
 "nbformat_minor": 4
}
