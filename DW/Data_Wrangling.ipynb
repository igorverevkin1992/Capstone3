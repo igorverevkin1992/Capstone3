{
 "cells": [
  {
   "cell_type": "markdown",
   "metadata": {},
   "source": [
    "# CAPSTONE 3. Predicting Next Cryptocurrency Market Cycle Peak\n",
    "## Data Wrangling"
   ]
  },
  {
   "cell_type": "markdown",
   "metadata": {},
   "source": [
    "In this notebook we will perform data wrangling for our project. We will:<br>\n",
    "<ol>1. Retreive historical data for four major cryptocurrencies:<br>\n",
    "    <ol><i>1.1. Bitcoin (<b>BTC</b>)<br>\n",
    "        1.2. Ethereum (<b>ETH</b>)<br>\n",
    "        1.3. XPR (<b>XRP</b>)<br>\n",
    "        1.4. Litecoin (<b>LTC</b>)<br>\n",
    "    </ol>\n",
    "    2. Organize it and make sure it's well defined and ready for the next step - Exploratory Data Analysis\n",
    "</ol>"
   ]
  },
  {
   "cell_type": "code",
   "execution_count": 1,
   "metadata": {},
   "outputs": [],
   "source": [
    "#importing all the necessary modules and libraries\n",
    "import pandas as pd\n",
    "import os\n",
    "import glob\n",
    "from functools import reduce"
   ]
  },
  {
   "cell_type": "markdown",
   "metadata": {},
   "source": [
    "First, let's read all the data we downloaded from YahooFinance."
   ]
  },
  {
   "cell_type": "code",
   "execution_count": 2,
   "metadata": {},
   "outputs": [],
   "source": [
    "#creating one dataframe for each token\n",
    "df_BTC = pd.read_csv('../datasets/BTC-USD.csv', parse_dates=True).sort_values(by='Date')\n",
    "df_ETH = pd.read_csv('../datasets/ETH-USD.csv', parse_dates=True).sort_values(by='Date')\n",
    "df_XRP = pd.read_csv('../datasets/XRP-USD.csv', parse_dates=True).sort_values(by='Date')\n",
    "df_LTC = pd.read_csv('../datasets/LTC-USD.csv', parse_dates=True).sort_values(by='Date')"
   ]
  },
  {
   "cell_type": "code",
   "execution_count": 3,
   "metadata": {},
   "outputs": [
    {
     "data": {
      "text/html": [
       "<div>\n",
       "<style scoped>\n",
       "    .dataframe tbody tr th:only-of-type {\n",
       "        vertical-align: middle;\n",
       "    }\n",
       "\n",
       "    .dataframe tbody tr th {\n",
       "        vertical-align: top;\n",
       "    }\n",
       "\n",
       "    .dataframe thead th {\n",
       "        text-align: right;\n",
       "    }\n",
       "</style>\n",
       "<table border=\"1\" class=\"dataframe\">\n",
       "  <thead>\n",
       "    <tr style=\"text-align: right;\">\n",
       "      <th></th>\n",
       "      <th>Date</th>\n",
       "      <th>Open_BTC</th>\n",
       "      <th>High_BTC</th>\n",
       "      <th>Low_BTC</th>\n",
       "      <th>Close_BTC</th>\n",
       "      <th>Adj Close_BTC</th>\n",
       "      <th>Volume_BTC</th>\n",
       "      <th>Open_ETH</th>\n",
       "      <th>High_ETH</th>\n",
       "      <th>Low_ETH</th>\n",
       "      <th>...</th>\n",
       "      <th>Low</th>\n",
       "      <th>Close</th>\n",
       "      <th>Adj Close</th>\n",
       "      <th>Volume</th>\n",
       "      <th>Open_LTC</th>\n",
       "      <th>High_LTC</th>\n",
       "      <th>Low_LTC</th>\n",
       "      <th>Close_LTC</th>\n",
       "      <th>Adj Close_LTC</th>\n",
       "      <th>Volume_LTC</th>\n",
       "    </tr>\n",
       "  </thead>\n",
       "  <tbody>\n",
       "    <tr>\n",
       "      <th>0</th>\n",
       "      <td>2015-08-07</td>\n",
       "      <td>278.740997</td>\n",
       "      <td>280.391998</td>\n",
       "      <td>276.365997</td>\n",
       "      <td>279.584991</td>\n",
       "      <td>279.584991</td>\n",
       "      <td>42484800.0</td>\n",
       "      <td>2.83162</td>\n",
       "      <td>3.53661</td>\n",
       "      <td>2.52112</td>\n",
       "      <td>...</td>\n",
       "      <td>0.007989</td>\n",
       "      <td>0.008152</td>\n",
       "      <td>0.008152</td>\n",
       "      <td>363643.0</td>\n",
       "      <td>4.06334</td>\n",
       "      <td>4.22069</td>\n",
       "      <td>3.97027</td>\n",
       "      <td>4.20828</td>\n",
       "      <td>4.20828</td>\n",
       "      <td>4192810.0</td>\n",
       "    </tr>\n",
       "  </tbody>\n",
       "</table>\n",
       "<p>1 rows × 25 columns</p>\n",
       "</div>"
      ],
      "text/plain": [
       "         Date    Open_BTC    High_BTC     Low_BTC   Close_BTC  Adj Close_BTC  \\\n",
       "0  2015-08-07  278.740997  280.391998  276.365997  279.584991     279.584991   \n",
       "\n",
       "   Volume_BTC  Open_ETH  High_ETH  Low_ETH  ...       Low     Close  \\\n",
       "0  42484800.0   2.83162   3.53661  2.52112  ...  0.007989  0.008152   \n",
       "\n",
       "   Adj Close    Volume  Open_LTC  High_LTC  Low_LTC  Close_LTC  Adj Close_LTC  \\\n",
       "0   0.008152  363643.0   4.06334   4.22069  3.97027    4.20828        4.20828   \n",
       "\n",
       "   Volume_LTC  \n",
       "0   4192810.0  \n",
       "\n",
       "[1 rows x 25 columns]"
      ]
     },
     "execution_count": 3,
     "metadata": {},
     "output_type": "execute_result"
    }
   ],
   "source": [
    "#merging dataframes and adding suffixes for better readability\n",
    "dfs_1 = [df_BTC, df_ETH]\n",
    "df_1 = reduce(lambda left,right: pd.merge(left,right, on=['Date'], suffixes=('_BTC', '_ETH')), dfs_1)\n",
    "dfs_2 = [df_1, df_XRP]\n",
    "df_2 = reduce(lambda left,right: pd.merge(left,right, on=['Date'], suffixes=(None, '_XRP')), dfs_2)\n",
    "dfs_3 = [df_2, df_LTC]\n",
    "df_merged = reduce(lambda left,right: pd.merge(left,right, on=['Date'], suffixes=(None, '_LTC')), dfs_3)\n",
    "df_merged.head(1)"
   ]
  },
  {
   "cell_type": "markdown",
   "metadata": {},
   "source": [
    "For some reason suffix for XRP was not added. Let's fix it."
   ]
  },
  {
   "cell_type": "code",
   "execution_count": 4,
   "metadata": {},
   "outputs": [
    {
     "name": "stdout",
     "output_type": "stream",
     "text": [
      "Index(['Date', 'Open_BTC', 'High_BTC', 'Low_BTC', 'Close_BTC', 'Adj Close_BTC',\n",
      "       'Volume_BTC', 'Open_ETH', 'High_ETH', 'Low_ETH', 'Close_ETH',\n",
      "       'Adj Close_ETH', 'Volume_ETH', 'Open_XRP', 'High_XRP', 'Low_XRP',\n",
      "       'Close_XRP', 'Adj Close_XRP', 'Volume_XRP', 'Open_LTC', 'High_LTC',\n",
      "       'Low_LTC', 'Close_LTC', 'Adj Close_LTC', 'Volume_LTC'],\n",
      "      dtype='object')\n"
     ]
    },
    {
     "data": {
      "text/html": [
       "<div>\n",
       "<style scoped>\n",
       "    .dataframe tbody tr th:only-of-type {\n",
       "        vertical-align: middle;\n",
       "    }\n",
       "\n",
       "    .dataframe tbody tr th {\n",
       "        vertical-align: top;\n",
       "    }\n",
       "\n",
       "    .dataframe thead th {\n",
       "        text-align: right;\n",
       "    }\n",
       "</style>\n",
       "<table border=\"1\" class=\"dataframe\">\n",
       "  <thead>\n",
       "    <tr style=\"text-align: right;\">\n",
       "      <th></th>\n",
       "      <th>Date</th>\n",
       "      <th>Open_BTC</th>\n",
       "      <th>High_BTC</th>\n",
       "      <th>Low_BTC</th>\n",
       "      <th>Close_BTC</th>\n",
       "      <th>Adj Close_BTC</th>\n",
       "      <th>Volume_BTC</th>\n",
       "      <th>Open_ETH</th>\n",
       "      <th>High_ETH</th>\n",
       "      <th>Low_ETH</th>\n",
       "      <th>...</th>\n",
       "      <th>Low_XRP</th>\n",
       "      <th>Close_XRP</th>\n",
       "      <th>Adj Close_XRP</th>\n",
       "      <th>Volume_XRP</th>\n",
       "      <th>Open_LTC</th>\n",
       "      <th>High_LTC</th>\n",
       "      <th>Low_LTC</th>\n",
       "      <th>Close_LTC</th>\n",
       "      <th>Adj Close_LTC</th>\n",
       "      <th>Volume_LTC</th>\n",
       "    </tr>\n",
       "  </thead>\n",
       "  <tbody>\n",
       "    <tr>\n",
       "      <th>0</th>\n",
       "      <td>2015-08-07</td>\n",
       "      <td>278.740997</td>\n",
       "      <td>280.391998</td>\n",
       "      <td>276.365997</td>\n",
       "      <td>279.584991</td>\n",
       "      <td>279.584991</td>\n",
       "      <td>42484800.0</td>\n",
       "      <td>2.831620</td>\n",
       "      <td>3.536610</td>\n",
       "      <td>2.521120</td>\n",
       "      <td>...</td>\n",
       "      <td>0.007989</td>\n",
       "      <td>0.008152</td>\n",
       "      <td>0.008152</td>\n",
       "      <td>363643.0</td>\n",
       "      <td>4.06334</td>\n",
       "      <td>4.22069</td>\n",
       "      <td>3.97027</td>\n",
       "      <td>4.20828</td>\n",
       "      <td>4.20828</td>\n",
       "      <td>4192810.0</td>\n",
       "    </tr>\n",
       "    <tr>\n",
       "      <th>1</th>\n",
       "      <td>2015-08-08</td>\n",
       "      <td>279.742004</td>\n",
       "      <td>279.928009</td>\n",
       "      <td>260.709991</td>\n",
       "      <td>260.997009</td>\n",
       "      <td>260.997009</td>\n",
       "      <td>58533000.0</td>\n",
       "      <td>2.793760</td>\n",
       "      <td>2.798810</td>\n",
       "      <td>0.714725</td>\n",
       "      <td>...</td>\n",
       "      <td>0.008164</td>\n",
       "      <td>0.008476</td>\n",
       "      <td>0.008476</td>\n",
       "      <td>678295.0</td>\n",
       "      <td>4.22099</td>\n",
       "      <td>4.22364</td>\n",
       "      <td>3.83542</td>\n",
       "      <td>3.85475</td>\n",
       "      <td>3.85475</td>\n",
       "      <td>4917730.0</td>\n",
       "    </tr>\n",
       "    <tr>\n",
       "      <th>2</th>\n",
       "      <td>2015-08-09</td>\n",
       "      <td>261.115997</td>\n",
       "      <td>267.002991</td>\n",
       "      <td>260.467987</td>\n",
       "      <td>265.083008</td>\n",
       "      <td>265.083008</td>\n",
       "      <td>23789600.0</td>\n",
       "      <td>0.706136</td>\n",
       "      <td>0.879810</td>\n",
       "      <td>0.629191</td>\n",
       "      <td>...</td>\n",
       "      <td>0.008472</td>\n",
       "      <td>0.008808</td>\n",
       "      <td>0.008808</td>\n",
       "      <td>531969.0</td>\n",
       "      <td>3.84339</td>\n",
       "      <td>3.98426</td>\n",
       "      <td>3.81139</td>\n",
       "      <td>3.89859</td>\n",
       "      <td>3.89859</td>\n",
       "      <td>3064680.0</td>\n",
       "    </tr>\n",
       "    <tr>\n",
       "      <th>3</th>\n",
       "      <td>2015-08-10</td>\n",
       "      <td>265.477997</td>\n",
       "      <td>267.032013</td>\n",
       "      <td>262.596008</td>\n",
       "      <td>264.470001</td>\n",
       "      <td>264.470001</td>\n",
       "      <td>20979400.0</td>\n",
       "      <td>0.713989</td>\n",
       "      <td>0.729854</td>\n",
       "      <td>0.636546</td>\n",
       "      <td>...</td>\n",
       "      <td>0.008746</td>\n",
       "      <td>0.008750</td>\n",
       "      <td>0.008750</td>\n",
       "      <td>472973.0</td>\n",
       "      <td>3.90080</td>\n",
       "      <td>3.98013</td>\n",
       "      <td>3.89761</td>\n",
       "      <td>3.94888</td>\n",
       "      <td>3.94888</td>\n",
       "      <td>2239890.0</td>\n",
       "    </tr>\n",
       "    <tr>\n",
       "      <th>4</th>\n",
       "      <td>2015-08-11</td>\n",
       "      <td>264.342010</td>\n",
       "      <td>270.385986</td>\n",
       "      <td>264.093994</td>\n",
       "      <td>270.385986</td>\n",
       "      <td>270.385986</td>\n",
       "      <td>25433900.0</td>\n",
       "      <td>0.708087</td>\n",
       "      <td>1.131410</td>\n",
       "      <td>0.663235</td>\n",
       "      <td>...</td>\n",
       "      <td>0.008591</td>\n",
       "      <td>0.008591</td>\n",
       "      <td>0.008591</td>\n",
       "      <td>282461.0</td>\n",
       "      <td>3.94874</td>\n",
       "      <td>4.15955</td>\n",
       "      <td>3.94295</td>\n",
       "      <td>4.15955</td>\n",
       "      <td>4.15955</td>\n",
       "      <td>3426300.0</td>\n",
       "    </tr>\n",
       "  </tbody>\n",
       "</table>\n",
       "<p>5 rows × 25 columns</p>\n",
       "</div>"
      ],
      "text/plain": [
       "         Date    Open_BTC    High_BTC     Low_BTC   Close_BTC  Adj Close_BTC  \\\n",
       "0  2015-08-07  278.740997  280.391998  276.365997  279.584991     279.584991   \n",
       "1  2015-08-08  279.742004  279.928009  260.709991  260.997009     260.997009   \n",
       "2  2015-08-09  261.115997  267.002991  260.467987  265.083008     265.083008   \n",
       "3  2015-08-10  265.477997  267.032013  262.596008  264.470001     264.470001   \n",
       "4  2015-08-11  264.342010  270.385986  264.093994  270.385986     270.385986   \n",
       "\n",
       "   Volume_BTC  Open_ETH  High_ETH   Low_ETH  ...   Low_XRP  Close_XRP  \\\n",
       "0  42484800.0  2.831620  3.536610  2.521120  ...  0.007989   0.008152   \n",
       "1  58533000.0  2.793760  2.798810  0.714725  ...  0.008164   0.008476   \n",
       "2  23789600.0  0.706136  0.879810  0.629191  ...  0.008472   0.008808   \n",
       "3  20979400.0  0.713989  0.729854  0.636546  ...  0.008746   0.008750   \n",
       "4  25433900.0  0.708087  1.131410  0.663235  ...  0.008591   0.008591   \n",
       "\n",
       "   Adj Close_XRP  Volume_XRP  Open_LTC  High_LTC  Low_LTC  Close_LTC  \\\n",
       "0       0.008152    363643.0   4.06334   4.22069  3.97027    4.20828   \n",
       "1       0.008476    678295.0   4.22099   4.22364  3.83542    3.85475   \n",
       "2       0.008808    531969.0   3.84339   3.98426  3.81139    3.89859   \n",
       "3       0.008750    472973.0   3.90080   3.98013  3.89761    3.94888   \n",
       "4       0.008591    282461.0   3.94874   4.15955  3.94295    4.15955   \n",
       "\n",
       "   Adj Close_LTC  Volume_LTC  \n",
       "0        4.20828   4192810.0  \n",
       "1        3.85475   4917730.0  \n",
       "2        3.89859   3064680.0  \n",
       "3        3.94888   2239890.0  \n",
       "4        4.15955   3426300.0  \n",
       "\n",
       "[5 rows x 25 columns]"
      ]
     },
     "execution_count": 4,
     "metadata": {},
     "output_type": "execute_result"
    }
   ],
   "source": [
    "#creating a dictionary with old and new names\n",
    "mapper = {'Open':'Open_XRP', 'High':'High_XRP', 'Low':'Low_XRP', 'Close':'Close_XRP', 'Adj Close':'Adj Close_XRP', 'Volume':'Volume_XRP'}\n",
    "df = df_merged.rename(mapper, axis=1)\n",
    "print(df.columns)\n",
    "df.head()"
   ]
  },
  {
   "cell_type": "markdown",
   "metadata": {},
   "source": [
    "Let's take a general overview of our dataframe."
   ]
  },
  {
   "cell_type": "code",
   "execution_count": 5,
   "metadata": {},
   "outputs": [
    {
     "name": "stdout",
     "output_type": "stream",
     "text": [
      "<class 'pandas.core.frame.DataFrame'>\n",
      "Int64Index: 1998 entries, 0 to 1997\n",
      "Data columns (total 25 columns):\n",
      " #   Column         Non-Null Count  Dtype  \n",
      "---  ------         --------------  -----  \n",
      " 0   Date           1998 non-null   object \n",
      " 1   Open_BTC       1994 non-null   float64\n",
      " 2   High_BTC       1994 non-null   float64\n",
      " 3   Low_BTC        1994 non-null   float64\n",
      " 4   Close_BTC      1994 non-null   float64\n",
      " 5   Adj Close_BTC  1994 non-null   float64\n",
      " 6   Volume_BTC     1994 non-null   float64\n",
      " 7   Open_ETH       1994 non-null   float64\n",
      " 8   High_ETH       1994 non-null   float64\n",
      " 9   Low_ETH        1994 non-null   float64\n",
      " 10  Close_ETH      1994 non-null   float64\n",
      " 11  Adj Close_ETH  1994 non-null   float64\n",
      " 12  Volume_ETH     1994 non-null   float64\n",
      " 13  Open_XRP       1994 non-null   float64\n",
      " 14  High_XRP       1994 non-null   float64\n",
      " 15  Low_XRP        1994 non-null   float64\n",
      " 16  Close_XRP      1994 non-null   float64\n",
      " 17  Adj Close_XRP  1994 non-null   float64\n",
      " 18  Volume_XRP     1994 non-null   float64\n",
      " 19  Open_LTC       1994 non-null   float64\n",
      " 20  High_LTC       1994 non-null   float64\n",
      " 21  Low_LTC        1994 non-null   float64\n",
      " 22  Close_LTC      1994 non-null   float64\n",
      " 23  Adj Close_LTC  1994 non-null   float64\n",
      " 24  Volume_LTC     1994 non-null   float64\n",
      "dtypes: float64(24), object(1)\n",
      "memory usage: 405.8+ KB\n"
     ]
    }
   ],
   "source": [
    "df.info()"
   ]
  },
  {
   "cell_type": "markdown",
   "metadata": {},
   "source": [
    "Okay, now we have the correct names for our columns. We can also see that even though the dataset mostly consists of the numbers, for some reason they are presented as 'objects'. We will need to convert them into floats later. Our dates are Datetime objects."
   ]
  },
  {
   "cell_type": "code",
   "execution_count": 6,
   "metadata": {},
   "outputs": [
    {
     "data": {
      "text/plain": [
       "(1998, 25)"
      ]
     },
     "execution_count": 6,
     "metadata": {},
     "output_type": "execute_result"
    }
   ],
   "source": [
    "#looking how many observations and features we have\n",
    "df.shape"
   ]
  },
  {
   "cell_type": "markdown",
   "metadata": {},
   "source": [
    "We have 1998 observations and 25 features."
   ]
  },
  {
   "cell_type": "markdown",
   "metadata": {},
   "source": [
    "Now let's see if we have any missing data."
   ]
  },
  {
   "cell_type": "code",
   "execution_count": 7,
   "metadata": {},
   "outputs": [
    {
     "data": {
      "text/plain": [
       "True"
      ]
     },
     "execution_count": 7,
     "metadata": {},
     "output_type": "execute_result"
    }
   ],
   "source": [
    "df.isnull().values.any()"
   ]
  },
  {
   "cell_type": "markdown",
   "metadata": {},
   "source": [
    "We have null values. Let's find out how many."
   ]
  },
  {
   "cell_type": "code",
   "execution_count": 8,
   "metadata": {},
   "outputs": [
    {
     "data": {
      "text/plain": [
       "Date   Open_BTC  High_BTC  Low_BTC  Close_BTC  Adj Close_BTC  Volume_BTC  Open_ETH  High_ETH  Low_ETH  Close_ETH  Adj Close_ETH  Volume_ETH  Open_XRP  High_XRP  Low_XRP  Close_XRP  Adj Close_XRP  Volume_XRP  Open_LTC  High_LTC  Low_LTC  Close_LTC  Adj Close_LTC  Volume_LTC\n",
       "False  False     False     False    False      False          False       False     False     False    False      False          False       False     False     False    False      False          False       False     False     False    False      False          False         1994\n",
       "       True      True      True     True       True           True        True      True      True     True       True           True        True      True      True     True       True           True        True      True      True     True       True           True             4\n",
       "dtype: int64"
      ]
     },
     "execution_count": 8,
     "metadata": {},
     "output_type": "execute_result"
    }
   ],
   "source": [
    "df.isnull().value_counts()"
   ]
  },
  {
   "cell_type": "markdown",
   "metadata": {},
   "source": [
    "We have four null values. That's not many so we can drop them."
   ]
  },
  {
   "cell_type": "code",
   "execution_count": 9,
   "metadata": {},
   "outputs": [
    {
     "data": {
      "text/plain": [
       "Date             False\n",
       "Open_BTC         False\n",
       "High_BTC         False\n",
       "Low_BTC          False\n",
       "Close_BTC        False\n",
       "Adj Close_BTC    False\n",
       "Volume_BTC       False\n",
       "Open_ETH         False\n",
       "High_ETH         False\n",
       "Low_ETH          False\n",
       "Close_ETH        False\n",
       "Adj Close_ETH    False\n",
       "Volume_ETH       False\n",
       "Open_XRP         False\n",
       "High_XRP         False\n",
       "Low_XRP          False\n",
       "Close_XRP        False\n",
       "Adj Close_XRP    False\n",
       "Volume_XRP       False\n",
       "Open_LTC         False\n",
       "High_LTC         False\n",
       "Low_LTC          False\n",
       "Close_LTC        False\n",
       "Adj Close_LTC    False\n",
       "Volume_LTC       False\n",
       "dtype: bool"
      ]
     },
     "execution_count": 9,
     "metadata": {},
     "output_type": "execute_result"
    }
   ],
   "source": [
    "df = df.dropna(axis=0)\n",
    "df.isnull().any()"
   ]
  },
  {
   "cell_type": "code",
   "execution_count": 10,
   "metadata": {},
   "outputs": [
    {
     "data": {
      "text/plain": [
       "(1994, 25)"
      ]
     },
     "execution_count": 10,
     "metadata": {},
     "output_type": "execute_result"
    }
   ],
   "source": [
    "#checking data shape once again, shoud get 1998-4=1994 observations\n",
    "df.shape"
   ]
  },
  {
   "cell_type": "markdown",
   "metadata": {},
   "source": [
    "No more null values. Now let's find out if we have duplicated observations."
   ]
  },
  {
   "cell_type": "code",
   "execution_count": 11,
   "metadata": {},
   "outputs": [
    {
     "data": {
      "text/plain": [
       "False"
      ]
     },
     "execution_count": 11,
     "metadata": {},
     "output_type": "execute_result"
    }
   ],
   "source": [
    "df.duplicated().values.any()"
   ]
  },
  {
   "cell_type": "markdown",
   "metadata": {},
   "source": [
    "No duplicates. Our data is ready for the next strep - Exploratory Data Analysis."
   ]
  },
  {
   "cell_type": "code",
   "execution_count": 12,
   "metadata": {},
   "outputs": [],
   "source": [
    "datapath = 'D://Tutorials/SDST/My Projects/Capstone3/DW'\n",
    "if not os.path.exists(datapath):\n",
    "    os.mkdir(datapath)\n",
    "datapath_DW = os.path.join(datapath, 'Data_for_EDA.csv')\n",
    "if not os.path.exists(datapath_DW):\n",
    "    df.to_csv(datapath_DW, index=False)"
   ]
  }
 ],
 "metadata": {
  "kernelspec": {
   "display_name": "Python 3",
   "language": "python",
   "name": "python3"
  },
  "language_info": {
   "codemirror_mode": {
    "name": "ipython",
    "version": 3
   },
   "file_extension": ".py",
   "mimetype": "text/x-python",
   "name": "python",
   "nbconvert_exporter": "python",
   "pygments_lexer": "ipython3",
   "version": "3.7.9"
  }
 },
 "nbformat": 4,
 "nbformat_minor": 4
}
