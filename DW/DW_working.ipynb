{
 "cells": [
  {
   "cell_type": "markdown",
   "metadata": {},
   "source": [
    "# CAPSTONE 3. Predicting Next Cryptocurrency Market Cycle Peak\n",
    "## Data Wrangling"
   ]
  },
  {
   "cell_type": "markdown",
   "metadata": {},
   "source": [
    "In this notebook we will perform data wrangling for our project. We will:<br>\n",
    "<ol>1. Retreive historical data for Bitcoin and nine other major cryptocurrencies:<br>\n",
    "    <ol><i>1.1. Bitcoin (<b>BTC</b>)<br>\n",
    "        1.2. Ethereum (<b>ETH</b>)<br>\n",
    "        1.3. XPR (<b>XRP</b>)<br>\n",
    "        1.4. Cardano (<b>ADA</b>)<br>\n",
    "        1.5. Litecoin (<b>LTC</b>)<br>\n",
    "        1.6. Bitcoin Cash (<b>BCH</b>)<br>\n",
    "        1.7. Binance Coin (<b>BNB</b>)<br>\n",
    "        1.8. Stellar (<b>XLM</b>)<br>\n",
    "        1.9. EOS (<b>EOS</b>)<br>\n",
    "        1.10 Tezos (<b>XTZ</b>)<br></i>\n",
    "    </ol>\n",
    "    2. Organize it and make sure it's well defined and ready for the next step - Exploratory Data Analysis\n",
    "</ol>"
   ]
  },
  {
   "cell_type": "code",
   "execution_count": 1,
   "metadata": {},
   "outputs": [],
   "source": [
    "#importing all the necessary modules and libraries\n",
    "import pandas as pd\n",
    "import os\n",
    "import glob\n",
    "import seaborn as sns"
   ]
  },
  {
   "cell_type": "code",
   "execution_count": 3,
   "metadata": {},
   "outputs": [],
   "source": [
    "#reading the dataset into dataframe and sotring data by date\n",
    "df = pd.read_csv('../datasets/consolidated_coin_data.csv', parse_dates=True, index_col='Date').sort_values(by='Date', ascending=False)"
   ]
  },
  {
   "cell_type": "code",
   "execution_count": 6,
   "metadata": {},
   "outputs": [
    {
     "data": {
      "text/html": [
       "<div>\n",
       "<style scoped>\n",
       "    .dataframe tbody tr th:only-of-type {\n",
       "        vertical-align: middle;\n",
       "    }\n",
       "\n",
       "    .dataframe tbody tr th {\n",
       "        vertical-align: top;\n",
       "    }\n",
       "\n",
       "    .dataframe thead th {\n",
       "        text-align: right;\n",
       "    }\n",
       "</style>\n",
       "<table border=\"1\" class=\"dataframe\">\n",
       "  <thead>\n",
       "    <tr style=\"text-align: right;\">\n",
       "      <th></th>\n",
       "      <th>Currency</th>\n",
       "      <th>Open</th>\n",
       "      <th>High</th>\n",
       "      <th>Low</th>\n",
       "      <th>Close</th>\n",
       "      <th>Volume</th>\n",
       "      <th>Market Cap</th>\n",
       "    </tr>\n",
       "    <tr>\n",
       "      <th>Date</th>\n",
       "      <th></th>\n",
       "      <th></th>\n",
       "      <th></th>\n",
       "      <th></th>\n",
       "      <th></th>\n",
       "      <th></th>\n",
       "      <th></th>\n",
       "    </tr>\n",
       "  </thead>\n",
       "  <tbody>\n",
       "    <tr>\n",
       "      <th>2019-12-04</th>\n",
       "      <td>tezos</td>\n",
       "      <td>1.29</td>\n",
       "      <td>1.32</td>\n",
       "      <td>1.25</td>\n",
       "      <td>1.25</td>\n",
       "      <td>46,048,752</td>\n",
       "      <td>824,588,509</td>\n",
       "    </tr>\n",
       "    <tr>\n",
       "      <th>2019-12-04</th>\n",
       "      <td>binance-coin</td>\n",
       "      <td>15.35</td>\n",
       "      <td>15.69</td>\n",
       "      <td>15.01</td>\n",
       "      <td>15.28</td>\n",
       "      <td>237,605,471</td>\n",
       "      <td>2,376,597,490</td>\n",
       "    </tr>\n",
       "    <tr>\n",
       "      <th>2019-12-04</th>\n",
       "      <td>bitcoin-sv</td>\n",
       "      <td>96.00</td>\n",
       "      <td>100.91</td>\n",
       "      <td>94.51</td>\n",
       "      <td>95.44</td>\n",
       "      <td>492,295,285</td>\n",
       "      <td>1,724,375,560</td>\n",
       "    </tr>\n",
       "    <tr>\n",
       "      <th>2019-12-04</th>\n",
       "      <td>cardano</td>\n",
       "      <td>0.037906</td>\n",
       "      <td>0.038533</td>\n",
       "      <td>0.036550</td>\n",
       "      <td>0.037405</td>\n",
       "      <td>51,692,274</td>\n",
       "      <td>969,802,335</td>\n",
       "    </tr>\n",
       "    <tr>\n",
       "      <th>2019-12-04</th>\n",
       "      <td>ethereum</td>\n",
       "      <td>147.92</td>\n",
       "      <td>150.68</td>\n",
       "      <td>145.00</td>\n",
       "      <td>146.75</td>\n",
       "      <td>7,865,937,094</td>\n",
       "      <td>15,966,157,442</td>\n",
       "    </tr>\n",
       "  </tbody>\n",
       "</table>\n",
       "</div>"
      ],
      "text/plain": [
       "                Currency      Open      High       Low     Close  \\\n",
       "Date                                                               \n",
       "2019-12-04         tezos      1.29      1.32      1.25      1.25   \n",
       "2019-12-04  binance-coin     15.35     15.69     15.01     15.28   \n",
       "2019-12-04    bitcoin-sv     96.00    100.91     94.51     95.44   \n",
       "2019-12-04       cardano  0.037906  0.038533  0.036550  0.037405   \n",
       "2019-12-04      ethereum    147.92    150.68    145.00    146.75   \n",
       "\n",
       "                   Volume      Market Cap  \n",
       "Date                                       \n",
       "2019-12-04     46,048,752     824,588,509  \n",
       "2019-12-04    237,605,471   2,376,597,490  \n",
       "2019-12-04    492,295,285   1,724,375,560  \n",
       "2019-12-04     51,692,274     969,802,335  \n",
       "2019-12-04  7,865,937,094  15,966,157,442  "
      ]
     },
     "execution_count": 6,
     "metadata": {},
     "output_type": "execute_result"
    }
   ],
   "source": [
    "#checking what the df looks like\n",
    "df.head()"
   ]
  },
  {
   "cell_type": "markdown",
   "metadata": {},
   "source": [
    "We parsed dates and made them an index column for our dataframe."
   ]
  },
  {
   "cell_type": "code",
   "execution_count": 12,
   "metadata": {},
   "outputs": [
    {
     "name": "stdout",
     "output_type": "stream",
     "text": [
      "<class 'pandas.core.frame.DataFrame'>\n",
      "DatetimeIndex: 28944 entries, 2019-12-04 to 2013-04-28\n",
      "Data columns (total 7 columns):\n",
      " #   Column      Non-Null Count  Dtype \n",
      "---  ------      --------------  ----- \n",
      " 0   Currency    28944 non-null  object\n",
      " 1   Open        28944 non-null  object\n",
      " 2   High        28944 non-null  object\n",
      " 3   Low         28944 non-null  object\n",
      " 4   Close       28944 non-null  object\n",
      " 5   Volume      28944 non-null  object\n",
      " 6   Market Cap  28944 non-null  object\n",
      "dtypes: object(7)\n",
      "memory usage: 1.8+ MB\n"
     ]
    }
   ],
   "source": [
    "#overall look at the data\n",
    "df.info()"
   ]
  },
  {
   "cell_type": "markdown",
   "metadata": {},
   "source": [
    "We can see that even though the dataset mostly consists of the numbers, for some reason they are presented as 'objects'. We will need to convert them into floats later. Our dates are Datetime objects."
   ]
  },
  {
   "cell_type": "code",
   "execution_count": 8,
   "metadata": {},
   "outputs": [
    {
     "data": {
      "text/plain": [
       "(28944, 7)"
      ]
     },
     "execution_count": 8,
     "metadata": {},
     "output_type": "execute_result"
    }
   ],
   "source": [
    "#looking how many observations and features we have\n",
    "df.shape"
   ]
  },
  {
   "cell_type": "markdown",
   "metadata": {},
   "source": [
    "Now let's see if we have any missing data."
   ]
  },
  {
   "cell_type": "code",
   "execution_count": 10,
   "metadata": {},
   "outputs": [
    {
     "data": {
      "text/plain": [
       "False"
      ]
     },
     "execution_count": 10,
     "metadata": {},
     "output_type": "execute_result"
    }
   ],
   "source": [
    "df.isnull().values.any()"
   ]
  },
  {
   "cell_type": "markdown",
   "metadata": {},
   "source": [
    "We don't have any missing values in the dataframe, which is great. Now let's find out if we have duplicated observations."
   ]
  },
  {
   "cell_type": "code",
   "execution_count": 11,
   "metadata": {},
   "outputs": [
    {
     "data": {
      "text/plain": [
       "False"
      ]
     },
     "execution_count": 11,
     "metadata": {},
     "output_type": "execute_result"
    }
   ],
   "source": [
    "df.duplicated().values.any()"
   ]
  },
  {
   "cell_type": "markdown",
   "metadata": {},
   "source": [
    "No duplicates. The dataset looks very well-organized so far."
   ]
  },
  {
   "cell_type": "code",
   "execution_count": 14,
   "metadata": {},
   "outputs": [],
   "source": [
    "datapath = 'D://Tutorials/SDST/My Projects/Capstone3/DW'\n",
    "if not os.path.exists(datapath):\n",
    "    os.mkdir(datapath)\n",
    "datapath_DW = os.path.join(datapath, 'Data_Wrangling.csv')\n",
    "if not os.path.exists(datapath_DW):\n",
    "    df.to_csv(datapath_DW, index=False)"
   ]
  }
 ],
 "metadata": {
  "kernelspec": {
   "display_name": "Python 3",
   "language": "python",
   "name": "python3"
  },
  "language_info": {
   "codemirror_mode": {
    "name": "ipython",
    "version": 3
   },
   "file_extension": ".py",
   "mimetype": "text/x-python",
   "name": "python",
   "nbconvert_exporter": "python",
   "pygments_lexer": "ipython3",
   "version": "3.7.9"
  }
 },
 "nbformat": 4,
 "nbformat_minor": 4
}
